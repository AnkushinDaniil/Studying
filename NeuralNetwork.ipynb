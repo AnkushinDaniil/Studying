{
  "nbformat": 4,
  "nbformat_minor": 0,
  "metadata": {
    "colab": {
      "name": "NeuralNetwork.ipynb",
      "provenance": [],
      "mount_file_id": "1-lTkoCmUUHtqAK_gkRm53buFWRUplGYI",
      "authorship_tag": "ABX9TyN/ijmW34h3r03wnp5Qmm+x",
      "include_colab_link": true
    },
    "kernelspec": {
      "name": "python3",
      "display_name": "Python 3"
    }
  },
  "cells": [
    {
      "cell_type": "markdown",
      "metadata": {
        "id": "view-in-github",
        "colab_type": "text"
      },
      "source": [
        "<a href=\"https://colab.research.google.com/github/AnkushinDaniil/Studying/blob/main/NeuralNetwork.ipynb\" target=\"_parent\"><img src=\"https://colab.research.google.com/assets/colab-badge.svg\" alt=\"Open In Colab\"/></a>"
      ]
    },
    {
      "cell_type": "code",
      "metadata": {
        "id": "WDm_MaLjUDXq"
      },
      "source": [
        "import numpy as np\n",
        "import scipy.special\n",
        "import matplotlib.pyplot as plt"
      ],
      "execution_count": 113,
      "outputs": []
    },
    {
      "cell_type": "code",
      "metadata": {
        "id": "FO39T2iMO7bE"
      },
      "source": [
        "# Определение класса нейронной сети\n",
        "class neuralNetwork:\n",
        " \n",
        "  # инициализировать нейронную сеть\n",
        "  def __init__(self, inputnodes, hiddennodes, outputnodes, learningrate):\n",
        "    # задать количество узлов во входном, скрытом и выходном слое\n",
        "    self.inodes = inputnodes\n",
        "    self.hnodes = hiddennodes\n",
        "    self.onodes = outputnodes\n",
        "    # коэффициент обучения\n",
        "    self.lr = learningrate\n",
        " \n",
        "    # Матрицы весовых коэффициентов связей wih (между входным и скрытым\n",
        "    # слоями) и who (между скрытым и выходным слоями).\n",
        "    # Весовые коэффициенты связей между узлом i и узлом j следующего слоя\n",
        "    # обозначены как w_i_j:\n",
        "    # wll w21\n",
        "    # wl2 w22 и т.д.\n",
        "    self.wih = np.random.normal (0.0, pow(self.hnodes, -0.5), (self.hnodes, self.inodes))\n",
        "    self.who = np.random.normal (0.0, pow(self.onodes, -0.5), (self.onodes, self.hnodes))\n",
        "\n",
        "    # использование сигмоиды в качестве функции активации\n",
        "    self.activation_function = lambda x: scipy.special.expit(x)\n",
        "    pass\n",
        " \n",
        " \n",
        " \n",
        "  #Тренировка\n",
        "  def train(self, inputs_list, targets_list):\n",
        "\n",
        "    # преобразовать список входных значений в двухмерный массив\n",
        "    inputs = np.array(inputs_list, ndmin=2).T\n",
        "    targets = np.array(targets_list, ndmin=2).T\n",
        "\n",
        "    # рассчитать входящие сигналы для скрытого слоя\n",
        "    hidden_inputs = np.dot(self.wih, inputs)\n",
        "    # рассчитать исходящие сигналы для скрытого слоя\n",
        "    hidden_outputs = self.activation_function(hidden_inputs)\n",
        "\n",
        "    # рассчитать входящие сигналы для выходного слоя\n",
        "    final_inputs = np.dot(self.who, hidden_outputs)\n",
        "    # рассчитать исходящие сигналы для выходного слоя\n",
        "    final_outputs = self.activation_function(final_inputs)\n",
        "\n",
        "    # ошибка = целевое значение - фактическое значение\n",
        "    output_errors = targets - final_outputs\n",
        "\n",
        "    # ошибки скрытого слоя - это ошибки output_errors,\n",
        "    # распределенные пропорционально весовым коэффициентам связей\n",
        "    # и рекомбинированные на скрытых узлах\n",
        "    hidden_errors = np.dot(self.who.T, output_errors)\n",
        "\n",
        "    # обновить весовые коэффициенты связей между скрытым и выходным слоями\n",
        "    self.who += self.lr * np.dot((output_errors * final_outputs * ( 1.0 - final_outputs)), np.transpose(hidden_outputs))\n",
        "\n",
        "    # обновить весовые коэффициенты связей между входным и скрытым слоями\n",
        "    self.wih += self.lr * np.dot((hidden_errors * hidden_outputs * ( 1.0 - hidden_outputs)), np.transpose(inputs))\n",
        "    pass\n",
        " \n",
        "  #Опрос\n",
        "  def query(self, inputs_list):\n",
        "    # преобразовать список входных значений\n",
        "    # в двухмерный массив\n",
        "    inputs = np.array(inputs_list, ndmin=2).T\n",
        "   \n",
        "    # рассчитать входящие сигналы для скрытого слоя\n",
        "    hidden_inputs = np.dot(self.wih, inputs)\n",
        "    # рассчитать исходящие сигналы для скрытого слоя\n",
        "    hidden_outputs = self.activation_function(hidden_inputs)\n",
        " \n",
        "    # рассчитать входящие сигналы для выходного слоя\n",
        "    final_inputs = np.dot (self.who , hidden_outputs)\n",
        "    # рассчитать исходящие сигналы для выходного слоя\n",
        "    final_outputs = self.activation_function(final_inputs)\n",
        "    \n",
        "    return final_outputs"
      ],
      "execution_count": 114,
      "outputs": []
    },
    {
      "cell_type": "code",
      "metadata": {
        "id": "tMz0-b7kSIp6"
      },
      "source": [
        "# количество входных, скрытых и выходных узлов\n",
        "input_nodes = 784\n",
        "hidden_nodes = 200\n",
        "output_nodes = 10\n",
        "# коэффициент обучения равен 0,3\n",
        "learning_rate = 0.1\n",
        " \n",
        "# создать экземпляр нейронной сети\n",
        "n = neuralNetwork(input_nodes,hidden_nodes,output_nodes,learning_rate)"
      ],
      "execution_count": 115,
      "outputs": []
    },
    {
      "cell_type": "code",
      "metadata": {
        "id": "pEW0GIB0knIG"
      },
      "source": [
        "folder_path = '/content/drive/My Drive/NeuralNetwork/'\n",
        "training_data_file = open(folder_path + 'mnist_train.csv', 'r')\n",
        "training_data_list = training_data_file.readlines()\n",
        "training_data_file.close()"
      ],
      "execution_count": 116,
      "outputs": []
    },
    {
      "cell_type": "code",
      "metadata": {
        "id": "522BkarCnTXh",
        "outputId": "0acbed25-f434-497b-85f2-dd5ea621ff96",
        "colab": {
          "base_uri": "https://localhost:8080/",
          "height": 265
        }
      },
      "source": [
        "all_values = data_list[228].split(',')\n",
        "image_array = np.asfarray(all_values[1:]).reshape((28,28))\n",
        "plt.imshow(image_array, cmap='Greys', interpolation='None')\n",
        "None"
      ],
      "execution_count": 120,
      "outputs": [
        {
          "output_type": "display_data",
          "data": {
            "image/png": "[encoded data removed]",
            "text/plain": [
              "<Figure size 432x288 with 1 Axes>"
            ]
          },
          "metadata": {
            "tags": [],
            "needs_background": "light"
          }
        }
      ]
    },
    {
      "cell_type": "code",
      "metadata": {
        "id": "qbUvXchGoSc-"
      },
      "source": [
        "scaled_input = (np.asfarray(all_values[1:]) / 255.0 * 0.99) + 0.01\n",
        "# количество выходных узлов - 10 (пример)\n",
        "onodes = 10\n",
        "targets = np.zeros(onodes) + 0.01\n",
        "targets[int(all_values[0])] = 0.99"
      ],
      "execution_count": 118,
      "outputs": []
    },
    {
      "cell_type": "code",
      "metadata": {
        "id": "utFZ3kwfq8VJ"
      },
      "source": [
        "# тренировка нейронной сети\n",
        "\n",
        "# переменная epochs указывает, сколько раз тренировочный\n",
        "# набор данных используется для тренировки сети\n",
        "epochs = 5\n",
        "for е in range(epochs):\n",
        "    # перебрать все записи в тренировочном наборе данных\n",
        "    for record in training_data_list:\n",
        "        # получить список значений, используя символы запятой (1,1)\n",
        "        # в качестве разделителей\n",
        "        all_values = record.split(',')\n",
        "        # масштабировать и сместить входные значения\n",
        "        inputs = (np.asfarray(all_values[1:]) / 255.0 * 0.99) + 0.01\n",
        "        # создать целевые выходные значения (все равны 0,01, за исключением\n",
        "        # желаемого маркерного значения, равного 0,99)\n",
        "        targets = np.zeros(output_nodes) + 0.01\n",
        "        # all_values[0] - целевое маркерное значение для данной записи\n",
        "        targets[int(all_values[0])] = 0.99\n",
        "        n.train(inputs, targets)\n",
        "        pass\n",
        "    pass"
      ],
      "execution_count": 110,
      "outputs": []
    },
    {
      "cell_type": "code",
      "metadata": {
        "id": "JclaXNhszFI7"
      },
      "source": [
        "# загрузить в список тестовый набор данных CSV-файла набора MNIST\n",
        "test_data_file = open(folder_path + 'mnist_test.csv', 'r')\n",
        "test_data_list = test_data_file.readlines()\n",
        "test_data_file.close()"
      ],
      "execution_count": 111,
      "outputs": []
    },
    {
      "cell_type": "code",
      "metadata": {
        "id": "L_V3fGF9zrXL",
        "outputId": "4e8b7416-8aed-411d-9de0-1cbb4dab74da",
        "colab": {
          "base_uri": "https://localhost:8080/",
          "height": 34
        }
      },
      "source": [
        "# тестирование нейронной сети\n",
        "# журнал оценок работы сети, первоначально пустой\n",
        "scorecard = []\n",
        "# перебрать все записи в тестовом наборе данных\n",
        "for record in test_data_list:\n",
        "    # получить список значений из записи, используя символы\n",
        "    # запятой (*,1) в качестве разделителей\n",
        "    all_values = record.split(',')\n",
        "    # правильный ответ - первое значение\n",
        "    correct_label = int(all_values[0])\n",
        "    # масштабировать и сместить входные значения\n",
        "    inputs = (np.asfarray(all_values[1:]) / 255.0 * 0.99) + 0.01\n",
        "    # опрос сети\n",
        "    outputs = n.query(inputs)\n",
        "    # индекс наибольшего значения является маркерным значением\n",
        "    label = np.argmax(outputs)\n",
        "    # присоединить оценку ответа сети к концу списка\n",
        "    if (label == correct_label) :\n",
        "        # в случае правильного ответа сети присоединить\n",
        "        # к списку значение 1\n",
        "        scorecard.append(1)\n",
        "    else:\n",
        "        # в случае неправильного ответа сети присоединить\n",
        "        # к списку значение 0\n",
        "        scorecard.append(0)\n",
        "        pass\n",
        "    pass\n",
        "\n",
        "# рассчитать показатель эффективности в виде\n",
        "# доли правильных ответов\n",
        "scorecard_array = np.asarray(scorecard)\n",
        "print (\"эффективность = \", scorecard_array.sum() / scorecard_array.size)"
      ],
      "execution_count": 112,
      "outputs": [
        {
          "output_type": "stream",
          "text": [
            "эффективность =  0.9726\n"
          ],
          "name": "stdout"
        }
      ]
    }
  ]
}